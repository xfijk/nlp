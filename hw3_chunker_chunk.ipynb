{
 "cells": [
  {
   "cell_type": "markdown",
   "metadata": {},
   "source": [
    "# Homework: Phrasal Chunking"
   ]
  },
  {
   "cell_type": "markdown",
   "metadata": {},
   "source": [
    "# Introduction:"
   ]
  },
  {
   "cell_type": "markdown",
   "metadata": {},
   "source": [
    "    The development includes two stages:\n",
    "    \n",
    "    The first stage is the implement of the baseline algorithm. The challenge is understanding of vectors' dimensions in the algorithm. \n",
    "    \n",
    "    The second stage is improvement. Reading the two papers about the average perceptron and improving with the pseudocode. Evaluating our improved algorithm with different numepoches. \n",
    "    "
   ]
  },
  {
   "cell_type": "markdown",
   "metadata": {},
   "source": [
    "# Baseline: "
   ]
  },
  {
   "cell_type": "markdown",
   "metadata": {},
   "source": [
    "For each sentence, using viterbi algorithm from perc.py to find the most likely chunk tag sequence (with a continuously updating feature vector).\n",
    "\n",
    "Compare all features of each word from the output from viterbi with the sentence from the reference. If there is missing feature, add 1 to its weight; if there is wrong feature, subtract it's weight by 1.\n",
    "\n",
    "Noted that this apply to both unigram and bigram features.\n",
    "\n",
    "The idea of the baseline is not complicated. However, it is difficult to figure out how to implement it with mere the description on the hw3 web page. After reading the correspoding paper, the meaing of the varibles (such as global feature, local feature, dimention, etc ) is much more clear. \n"
   ]
  },
  {
   "cell_type": "markdown",
   "metadata": {},
   "source": [
    "# Improvement from average learning algorithm: "
   ]
  },
  {
   "cell_type": "markdown",
   "metadata": {},
   "source": [
    "    We then improved the baseline algorithm based on the algorithm from Prof's paper in page 38.\n",
    "    \n",
    "    We basically add two more vector, namely, sigma_vector and tau, corresponding to the two additional vectors used in the paper, which is the average vector and location vector records the location.\n",
    "    \n",
    "    We have to deal with two cases,  one is unigram and the other is bigram. And as stated in the average algorithm, we make a special case in which current sentence is the last sentence in training data. In unigram, we rewards the case if the output tag is same as the true tag, and penalize if it is not. We make comparison based on the pair of current tag and previous tag in bigram. With this average algorthim, we improved accuracy and efficiency.\n",
    "    \n",
    "    "
   ]
  },
  {
   "cell_type": "markdown",
   "metadata": {},
   "source": [
    "# Different experiments:"
   ]
  },
  {
   "cell_type": "code",
   "execution_count": 1,
   "metadata": {},
   "outputs": [
    {
     "data": {
      "image/png": "[encoded data removed]",
      "text/plain": [
       "<IPython.core.display.Image object>"
      ]
     },
     "execution_count": 1,
     "metadata": {},
     "output_type": "execute_result"
    }
   ],
   "source": [
    "from IPython.display import Image\n",
    "Image(filename = \"F1_score_epochs.png\")\n"
   ]
  },
  {
   "cell_type": "markdown",
   "metadata": {},
   "source": [
    "# Current best result:"
   ]
  },
  {
   "cell_type": "markdown",
   "metadata": {},
   "source": [
    "Note:\n",
    "\n",
    "    We modified the orignal perc.py a bit and rename as perc_xza as follow, in order to make it runnable on jupyter notebook.(Instead of print the output, we write the output to the \"data/output\")\n",
    "    \n",
    "    If you want to run it in the terminal, please run the original file perc.py as follow:\n",
    "        python3 chunk.py (with same command line)\n",
    "        python3 perc.py | python3 score_chunks.py (with same )"
   ]
  },
  {
   "cell_type": "code",
   "execution_count": 3,
   "metadata": {},
   "outputs": [
    {
     "data": {
      "application/vnd.jupyter.widget-view+json": {
       "model_id": "e661729b1e1a4be6be1e761cf9a4d940",
       "version_major": 2,
       "version_minor": 0
      },
      "text/plain": [
       "HBox(children=(IntProgress(value=0, max=9), HTML(value='')))"
      ]
     },
     "metadata": {},
     "output_type": "display_data"
    },
    {
     "name": "stderr",
     "output_type": "stream",
     "text": [
      "reading data ...\n",
      "done.\n"
     ]
    },
    {
     "name": "stdout",
     "output_type": "stream",
     "text": [
      "processed 500 sentences with 10375 tokens and 5783 phrases; found phrases: 5782; correct phrases: 5424\n",
      "             ADJP: precision:  73.47%; recall:  72.73%; F1:  73.10; found:     98; correct:     99\n",
      "             ADVP: precision:  80.00%; recall:  79.21%; F1:  79.60; found:    200; correct:    202\n",
      "            CONJP: precision: 100.00%; recall:  60.00%; F1:  75.00; found:      3; correct:      5\n",
      "             INTJ: precision:   0.00%; recall:   0.00%; F1:   0.00; found:      0; correct:      1\n",
      "               NP: precision:  94.76%; recall:  94.48%; F1:  94.62; found:   3017; correct:   3026\n",
      "               PP: precision:  97.16%; recall:  97.95%; F1:  97.55; found:   1231; correct:   1221\n",
      "              PRT: precision:  77.27%; recall:  77.27%; F1:  77.27; found:     22; correct:     22\n",
      "             SBAR: precision:  86.27%; recall:  82.24%; F1:  84.21; found:    102; correct:    107\n",
      "               VP: precision:  92.79%; recall:  93.55%; F1:  93.16; found:   1109; correct:   1100\n",
      "accuracy:  95.65%; precision:  93.81%; recall:  93.79%; F1:  93.80\n",
      "Score: 93.80\n"
     ]
    }
   ],
   "source": [
    "import chunk\n",
    "import perc_xza as perc\n",
    "import score_chunks\n",
    "import gzip # use compressed data files\n",
    "import copy, operator, optparse, sys, os\n",
    "\n",
    "\n",
    "feat_vec = {}\n",
    "tagset = []\n",
    "train_data = []\n",
    "\n",
    "tagset = perc.read_tagset(\"data/tagset.txt\")\n",
    "train_data = perc.read_labeled_data(\"data/train.txt.gz\", \"data/train.feats.gz\")\n",
    "feat_vec = chunk.perc_train(train_data, tagset, int(9))\n",
    "\n",
    "print(\"reading data ...\", file=sys.stderr)\n",
    "test_data = perc.read_labeled_data(\"data/input.txt.gz\", \"data/input.feats.gz\", verbose=False)\n",
    "print(\"done.\", file=sys.stderr)\n",
    "perc.perc_testall(feat_vec, test_data, tagset)\n",
    "\n",
    "\n",
    "with open('data/output') as f:\n",
    "\t(test, reference) = score_chunks.readTestFile(f.read(), \"-X-\",'O', False, 2)\n",
    "\n",
    "with open('data/reference500.txt') as f:\n",
    "\t(reference, _) = score_chunks.readTestFile(f.read(), \"-X-\",'O', False, 2)\n",
    "\n",
    "print(\"Score: %.2f\" % score_chunks.corpus_fmeasure(reference, test, False))"
   ]
  },
  {
   "cell_type": "code",
   "execution_count": null,
   "metadata": {},
   "outputs": [],
   "source": []
  }
 ],
 "metadata": {
  "kernelspec": {
   "display_name": "Python 3",
   "language": "python",
   "name": "python3"
  },
  "language_info": {
   "codemirror_mode": {
    "name": "ipython",
    "version": 3
   },
   "file_extension": ".py",
   "mimetype": "text/x-python",
   "name": "python",
   "nbconvert_exporter": "python",
   "pygments_lexer": "ipython3",
   "version": "3.7.0"
  }
 },
 "nbformat": 4,
 "nbformat_minor": 2
}
